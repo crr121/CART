{
 "cells": [
  {
   "cell_type": "code",
   "execution_count": 1,
   "metadata": {},
   "outputs": [],
   "source": [
    "from prune import *"
   ]
  },
  {
   "cell_type": "code",
   "execution_count": 2,
   "metadata": {},
   "outputs": [],
   "source": [
    "from regression_tree import *"
   ]
  },
  {
   "cell_type": "markdown",
   "metadata": {},
   "source": [
    "# 加载数据"
   ]
  },
  {
   "cell_type": "code",
   "execution_count": 3,
   "metadata": {},
   "outputs": [],
   "source": [
    "data = load_data('ex2.txt')\n",
    "tree = create_tree(data, fleaf, ferr)"
   ]
  },
  {
   "cell_type": "markdown",
   "metadata": {},
   "source": [
    "# 判断树结构"
   ]
  },
  {
   "cell_type": "markdown",
   "metadata": {},
   "source": [
    "## 判断是否不是树"
   ]
  },
  {
   "cell_type": "code",
   "execution_count": 4,
   "metadata": {},
   "outputs": [
    {
     "data": {
      "text/plain": [
       "False"
      ]
     },
     "execution_count": 4,
     "metadata": {},
     "output_type": "execute_result"
    }
   ],
   "source": [
    "not_tree(tree)"
   ]
  },
  {
   "cell_type": "markdown",
   "metadata": {},
   "source": [
    "# 对树结构进行塌陷处理"
   ]
  },
  {
   "cell_type": "markdown",
   "metadata": {},
   "source": [
    "## 计算给定树的平均值"
   ]
  },
  {
   "cell_type": "code",
   "execution_count": 5,
   "metadata": {},
   "outputs": [
    {
     "data": {
      "text/plain": [
       "53.136107929136443"
      ]
     },
     "execution_count": 5,
     "metadata": {},
     "output_type": "execute_result"
    }
   ],
   "source": [
    "collapse(tree)"
   ]
  },
  {
   "cell_type": "markdown",
   "metadata": {},
   "source": [
    "# 输出树结构"
   ]
  },
  {
   "cell_type": "code",
   "execution_count": 6,
   "metadata": {},
   "outputs": [
    {
     "data": {
      "text/plain": [
       "{'feat_idx': 0,\n",
       " 'feat_val': 0.50854200000000005,\n",
       " 'left': {'feat_idx': 0,\n",
       "  'feat_val': 0.46324100000000001,\n",
       "  'left': {'feat_idx': 0,\n",
       "   'feat_val': 0.13062599999999999,\n",
       "   'left': {'feat_idx': 0,\n",
       "    'feat_val': 0.085111000000000006,\n",
       "    'left': {'feat_idx': 0,\n",
       "     'feat_val': 0.053763999999999999,\n",
       "     'left': 4.0916259999999998,\n",
       "     'right': -2.5443927142857148},\n",
       "    'right': 6.5098432857142843},\n",
       "   'right': {'feat_idx': 0,\n",
       "    'feat_val': 0.37738300000000002,\n",
       "    'left': {'feat_idx': 0,\n",
       "     'feat_val': 0.3417,\n",
       "     'left': {'feat_idx': 0,\n",
       "      'feat_val': 0.32889000000000002,\n",
       "      'left': {'feat_idx': 0,\n",
       "       'feat_val': 0.30031799999999997,\n",
       "       'left': {'feat_idx': 0,\n",
       "        'feat_val': 0.17652300000000001,\n",
       "        'left': {'feat_idx': 0,\n",
       "         'feat_val': 0.156273,\n",
       "         'left': -6.2479000000000013,\n",
       "         'right': -12.107972500000001},\n",
       "        'right': {'feat_idx': 0,\n",
       "         'feat_val': 0.20399300000000001,\n",
       "         'left': 3.4496025000000001,\n",
       "         'right': {'feat_idx': 0,\n",
       "          'feat_val': 0.21832099999999999,\n",
       "          'left': -11.822278500000001,\n",
       "          'right': {'feat_idx': 0,\n",
       "           'feat_val': 0.228628,\n",
       "           'left': 6.770429,\n",
       "           'right': {'feat_idx': 0,\n",
       "            'feat_val': 0.26463900000000001,\n",
       "            'left': -13.070501,\n",
       "            'right': 0.40377471428571476}}}}},\n",
       "       'right': -19.994155200000002},\n",
       "      'right': 15.059290750000001},\n",
       "     'right': {'feat_idx': 0,\n",
       "      'feat_val': 0.35147800000000001,\n",
       "      'left': -22.693879600000002,\n",
       "      'right': -15.085111749999999}},\n",
       "    'right': {'feat_idx': 0,\n",
       "     'feat_val': 0.44619599999999998,\n",
       "     'left': {'feat_idx': 0,\n",
       "      'feat_val': 0.41894300000000001,\n",
       "      'left': {'feat_idx': 0,\n",
       "       'feat_val': 0.388789,\n",
       "       'left': 3.6584772500000016,\n",
       "       'right': -0.89235549999999952},\n",
       "      'right': 14.38417875},\n",
       "     'right': -12.558604833333334}}},\n",
       "  'right': {'feat_idx': 0,\n",
       "   'feat_val': 0.48380299999999998,\n",
       "   'left': 3.4331330000000007,\n",
       "   'right': 12.50675925}},\n",
       " 'right': {'feat_idx': 0,\n",
       "  'feat_val': 0.73163599999999995,\n",
       "  'left': {'feat_idx': 0,\n",
       "   'feat_val': 0.64237299999999997,\n",
       "   'left': {'feat_idx': 0,\n",
       "    'feat_val': 0.61886799999999997,\n",
       "    'left': {'feat_idx': 0,\n",
       "     'feat_val': 0.58541299999999996,\n",
       "     'left': {'feat_idx': 0,\n",
       "      'feat_val': 0.56030100000000005,\n",
       "      'left': {'feat_idx': 0,\n",
       "       'feat_val': 0.53194399999999997,\n",
       "       'left': 101.73699325000001,\n",
       "       'right': {'feat_idx': 0,\n",
       "        'feat_val': 0.546601,\n",
       "        'left': 110.979946,\n",
       "        'right': 109.38961049999999}},\n",
       "      'right': 97.200180249999988},\n",
       "     'right': 123.2101316},\n",
       "    'right': 93.673449714285724},\n",
       "   'right': {'feat_idx': 0,\n",
       "    'feat_val': 0.66785099999999997,\n",
       "    'left': 114.15162428571431,\n",
       "    'right': {'feat_idx': 0,\n",
       "     'feat_val': 0.70889000000000002,\n",
       "     'left': {'feat_idx': 0,\n",
       "      'feat_val': 0.69891999999999999,\n",
       "      'left': 108.92921799999999,\n",
       "      'right': 104.82495374999999},\n",
       "     'right': 114.554706}}},\n",
       "  'right': {'feat_idx': 0,\n",
       "   'feat_val': 0.95390200000000003,\n",
       "   'left': {'feat_idx': 0,\n",
       "    'feat_val': 0.76332800000000001,\n",
       "    'left': 78.085643250000004,\n",
       "    'right': {'feat_idx': 0,\n",
       "     'feat_val': 0.79819799999999996,\n",
       "     'left': 102.35780185714285,\n",
       "     'right': {'feat_idx': 0,\n",
       "      'feat_val': 0.83858699999999997,\n",
       "      'left': {'feat_idx': 0,\n",
       "       'feat_val': 0.81521500000000002,\n",
       "       'left': 88.784498800000009,\n",
       "       'right': 81.110151999999999},\n",
       "      'right': {'feat_idx': 0,\n",
       "       'feat_val': 0.94882200000000005,\n",
       "       'left': {'feat_idx': 0,\n",
       "        'feat_val': 0.85642099999999999,\n",
       "        'left': 95.275843166666661,\n",
       "        'right': {'feat_idx': 0,\n",
       "         'feat_val': 0.912161,\n",
       "         'left': {'feat_idx': 0,\n",
       "          'feat_val': 0.89668300000000001,\n",
       "          'left': {'feat_idx': 0,\n",
       "           'feat_val': 0.88361500000000004,\n",
       "           'left': 102.25234449999999,\n",
       "           'right': 95.181792999999999},\n",
       "          'right': 104.82540899999999},\n",
       "         'right': 96.452866999999998}},\n",
       "       'right': 87.310387500000004}}}},\n",
       "   'right': {'feat_idx': 0,\n",
       "    'feat_val': 0.96039799999999997,\n",
       "    'left': 112.42895575000001,\n",
       "    'right': 105.24862350000001}}}}"
      ]
     },
     "execution_count": 6,
     "metadata": {},
     "output_type": "execute_result"
    }
   ],
   "source": [
    "tree"
   ]
  },
  {
   "cell_type": "markdown",
   "metadata": {},
   "source": [
    "# 转为dot文件"
   ]
  },
  {
   "cell_type": "code",
   "execution_count": 7,
   "metadata": {},
   "outputs": [],
   "source": [
    "datafile = 'ex2.txt'\n",
    "dataset = load_data(datafile)\n",
    "tree = create_tree(dataset, fleaf, ferr, opt={'n_tolerance': 4, 'err_tolerance': 1})\n",
    "#dotfile = '{}.dot'.format(datafile.split('.')[0])\n",
    "with open('ex2.dot', 'w') as f:\n",
    "    content = dotify(tree)\n",
    "    f.write(content)"
   ]
  },
  {
   "cell_type": "code",
   "execution_count": 8,
   "metadata": {},
   "outputs": [
    {
     "name": "stdout",
     "output_type": "stream",
     "text": [
      " 驱动器 H 中的卷是 work\n",
      " 卷的序列号是 FE29-FAD3\n",
      "\n",
      " H:\\python_workspace\\PCA 的目录\n",
      "\n",
      "2018/08/22  16:36    <DIR>          .\n",
      "2018/08/22  16:36    <DIR>          ..\n",
      "2018/08/22  16:36    <DIR>          .idea\n",
      "2018/08/20  18:17            32,703 .ipynb\n",
      "2018/08/20  22:16    <DIR>          .ipynb_checkpoints\n",
      "2018/08/22  16:34    <DIR>          __pycache__\n",
      "2018/08/17  17:53            11,148 beyes.py\n",
      "2018/08/20  18:38            10,845 CART.py\n",
      "2018/08/22  09:54             1,291 ex0.dot\n",
      "2018/08/20  16:22             3,819 ex0.txt\n",
      "2018/08/20  16:21             3,844 ex00.txt\n",
      "2018/08/22  16:36            12,477 ex2.dot\n",
      "2018/08/22  10:53           285,630 ex2.png\n",
      "2018/08/20  16:25             4,067 ex2.txt\n",
      "2018/08/22  16:34            12,478 ex2_prune.dot\n",
      "2018/08/22  10:27           258,799 ex2_prune.png\n",
      "2018/08/22  11:47            12,478 ex2test.dot\n",
      "2018/08/20  16:24             4,062 ex2test.txt\n",
      "2018/08/22  16:35            22,787 notebook_1.ipynb\n",
      "2018/08/22  16:28               676 notebook_1.py\n",
      "2018/08/17  10:16               338 PCA.iml\n",
      "2018/08/17  10:32             1,775 pca_test.py\n",
      "2018/08/22  16:36            21,012 Post-Pruning.ipynb\n",
      "2018/08/22  16:27             1,951 Post-Pruning.py\n",
      "2018/08/20  22:20             2,959 prune.py\n",
      "2018/08/22  16:09             6,176 regression_tree.py\n",
      "2018/08/20  19:18    <DIR>          src\n",
      "2018/08/17  10:17               338 src.iml\n",
      "              22 个文件        711,653 字节\n",
      "               6 个目录 197,639,475,200 可用字节\n"
     ]
    }
   ],
   "source": [
    "ls"
   ]
  },
  {
   "cell_type": "markdown",
   "metadata": {},
   "source": [
    "# 利用grahviz将dot文件生成图片格式"
   ]
  },
  {
   "cell_type": "markdown",
   "metadata": {},
   "source": [
    "%%html\n",
    "<img src=\"ex2.png\">"
   ]
  },
  {
   "cell_type": "markdown",
   "metadata": {},
   "source": [
    "# 使用测试数据进行后剪枝"
   ]
  },
  {
   "cell_type": "code",
   "execution_count": 9,
   "metadata": {},
   "outputs": [],
   "source": [
    "data_test = load_data('ex2test.txt')"
   ]
  },
  {
   "cell_type": "code",
   "execution_count": 10,
   "metadata": {},
   "outputs": [
    {
     "name": "stdout",
     "output_type": "stream",
     "text": [
      "merged\n",
      "merged\n",
      "merged\n",
      "merged\n",
      "merged\n",
      "merged\n",
      "merged\n",
      "merged\n"
     ]
    }
   ],
   "source": [
    "pruned_tree = postprune(tree, data_test)"
   ]
  },
  {
   "cell_type": "code",
   "execution_count": 11,
   "metadata": {},
   "outputs": [
    {
     "data": {
      "text/plain": [
       "{'feat_idx': 0,\n",
       " 'feat_val': 0.50854200000000005,\n",
       " 'left': {'feat_idx': 0,\n",
       "  'feat_val': 0.46324100000000001,\n",
       "  'left': {'feat_idx': 0,\n",
       "   'feat_val': 0.13062599999999999,\n",
       "   'left': {'feat_idx': 0,\n",
       "    'feat_val': 0.085111000000000006,\n",
       "    'left': 0.77361664285714249,\n",
       "    'right': 6.5098432857142843},\n",
       "   'right': {'feat_idx': 0,\n",
       "    'feat_val': 0.37738300000000002,\n",
       "    'left': {'feat_idx': 0,\n",
       "     'feat_val': 0.3417,\n",
       "     'left': {'feat_idx': 0,\n",
       "      'feat_val': 0.32889000000000002,\n",
       "      'left': {'feat_idx': 0,\n",
       "       'feat_val': 0.30031799999999997,\n",
       "       'left': {'feat_idx': 0,\n",
       "        'feat_val': 0.17652300000000001,\n",
       "        'left': -9.1779362500000019,\n",
       "        'right': {'feat_idx': 0,\n",
       "         'feat_val': 0.20399300000000001,\n",
       "         'left': 3.4496025000000001,\n",
       "         'right': {'feat_idx': 0,\n",
       "          'feat_val': 0.21832099999999999,\n",
       "          'left': -11.822278500000001,\n",
       "          'right': {'feat_idx': 0,\n",
       "           'feat_val': 0.228628,\n",
       "           'left': 6.770429,\n",
       "           'right': {'feat_idx': 0,\n",
       "            'feat_val': 0.26463900000000001,\n",
       "            'left': -13.070501,\n",
       "            'right': 0.40377471428571476}}}}},\n",
       "       'right': -19.994155200000002},\n",
       "      'right': 15.059290750000001},\n",
       "     'right': {'feat_idx': 0,\n",
       "      'feat_val': 0.35147800000000001,\n",
       "      'left': -22.693879600000002,\n",
       "      'right': -15.085111749999999}},\n",
       "    'right': {'feat_idx': 0,\n",
       "     'feat_val': 0.44619599999999998,\n",
       "     'left': {'feat_idx': 0,\n",
       "      'feat_val': 0.41894300000000001,\n",
       "      'left': 1.3830608750000011,\n",
       "      'right': 14.38417875},\n",
       "     'right': -12.558604833333334}}},\n",
       "  'right': {'feat_idx': 0,\n",
       "   'feat_val': 0.48380299999999998,\n",
       "   'left': 3.4331330000000007,\n",
       "   'right': 12.50675925}},\n",
       " 'right': {'feat_idx': 0,\n",
       "  'feat_val': 0.73163599999999995,\n",
       "  'left': {'feat_idx': 0,\n",
       "   'feat_val': 0.64237299999999997,\n",
       "   'left': {'feat_idx': 0,\n",
       "    'feat_val': 0.61886799999999997,\n",
       "    'left': {'feat_idx': 0,\n",
       "     'feat_val': 0.58541299999999996,\n",
       "     'left': {'feat_idx': 0,\n",
       "      'feat_val': 0.56030100000000005,\n",
       "      'left': {'feat_idx': 0,\n",
       "       'feat_val': 0.53194399999999997,\n",
       "       'left': 101.73699325000001,\n",
       "       'right': 110.18477824999999},\n",
       "      'right': 97.200180249999988},\n",
       "     'right': 123.2101316},\n",
       "    'right': 93.673449714285724},\n",
       "   'right': {'feat_idx': 0,\n",
       "    'feat_val': 0.66785099999999997,\n",
       "    'left': 114.15162428571431,\n",
       "    'right': {'feat_idx': 0,\n",
       "     'feat_val': 0.70889000000000002,\n",
       "     'left': 106.87708587499999,\n",
       "     'right': 114.554706}}},\n",
       "  'right': {'feat_idx': 0,\n",
       "   'feat_val': 0.95390200000000003,\n",
       "   'left': {'feat_idx': 0,\n",
       "    'feat_val': 0.76332800000000001,\n",
       "    'left': 78.085643250000004,\n",
       "    'right': {'feat_idx': 0,\n",
       "     'feat_val': 0.79819799999999996,\n",
       "     'left': 102.35780185714285,\n",
       "     'right': {'feat_idx': 0,\n",
       "      'feat_val': 0.83858699999999997,\n",
       "      'left': 84.947325400000011,\n",
       "      'right': {'feat_idx': 0,\n",
       "       'feat_val': 0.94882200000000005,\n",
       "       'left': {'feat_idx': 0,\n",
       "        'feat_val': 0.85642099999999999,\n",
       "        'left': 95.275843166666661,\n",
       "        'right': {'feat_idx': 0,\n",
       "         'feat_val': 0.912161,\n",
       "         'left': {'feat_idx': 0,\n",
       "          'feat_val': 0.89668300000000001,\n",
       "          'left': 98.717068749999996,\n",
       "          'right': 104.82540899999999},\n",
       "         'right': 96.452866999999998}},\n",
       "       'right': 87.310387500000004}}}},\n",
       "   'right': 108.838789625}}}"
      ]
     },
     "execution_count": 11,
     "metadata": {},
     "output_type": "execute_result"
    }
   ],
   "source": [
    "pruned_tree"
   ]
  },
  {
   "cell_type": "markdown",
   "metadata": {},
   "source": [
    "# 生成dot文件用于显示"
   ]
  },
  {
   "cell_type": "code",
   "execution_count": 12,
   "metadata": {},
   "outputs": [],
   "source": [
    "datafile = 'ex2test.txt'\n",
    "dataset = load_data(datafile)\n",
    "tree = create_tree(dataset, fleaf, ferr, opt={'n_tolerance': 4, 'err_tolerance': 1})\n",
    "#dotfile = '{}.dot'.format(datafile.split('.')[0])\n",
    "with open('ex2_prune.dot', 'w') as f:\n",
    "    content = dotify(tree)\n",
    "    f.write(content)"
   ]
  },
  {
   "cell_type": "code",
   "execution_count": 13,
   "metadata": {},
   "outputs": [
    {
     "name": "stdout",
     "output_type": "stream",
     "text": [
      " 驱动器 H 中的卷是 work\n",
      " 卷的序列号是 FE29-FAD3\n",
      "\n",
      " H:\\python_workspace\\PCA 的目录\n",
      "\n",
      "2018/08/22  16:36    <DIR>          .\n",
      "2018/08/22  16:36    <DIR>          ..\n",
      "2018/08/22  16:36    <DIR>          .idea\n",
      "2018/08/20  18:17            32,703 .ipynb\n",
      "2018/08/20  22:16    <DIR>          .ipynb_checkpoints\n",
      "2018/08/22  16:34    <DIR>          __pycache__\n",
      "2018/08/17  17:53            11,148 beyes.py\n",
      "2018/08/20  18:38            10,845 CART.py\n",
      "2018/08/22  09:54             1,291 ex0.dot\n",
      "2018/08/20  16:22             3,819 ex0.txt\n",
      "2018/08/20  16:21             3,844 ex00.txt\n",
      "2018/08/22  16:36            12,477 ex2.dot\n",
      "2018/08/22  10:53           285,630 ex2.png\n",
      "2018/08/20  16:25             4,067 ex2.txt\n",
      "2018/08/22  16:37            12,478 ex2_prune.dot\n",
      "2018/08/22  10:27           258,799 ex2_prune.png\n",
      "2018/08/22  11:47            12,478 ex2test.dot\n",
      "2018/08/20  16:24             4,062 ex2test.txt\n",
      "2018/08/22  16:35            22,787 notebook_1.ipynb\n",
      "2018/08/22  16:28               676 notebook_1.py\n",
      "2018/08/17  10:16               338 PCA.iml\n",
      "2018/08/17  10:32             1,775 pca_test.py\n",
      "2018/08/22  16:36            21,012 Post-Pruning.ipynb\n",
      "2018/08/22  16:27             1,951 Post-Pruning.py\n",
      "2018/08/20  22:20             2,959 prune.py\n",
      "2018/08/22  16:09             6,176 regression_tree.py\n",
      "2018/08/20  19:18    <DIR>          src\n",
      "2018/08/17  10:17               338 src.iml\n",
      "              22 个文件        711,653 字节\n",
      "               6 个目录 197,639,475,200 可用字节\n"
     ]
    }
   ],
   "source": [
    "ls"
   ]
  },
  {
   "cell_type": "markdown",
   "metadata": {},
   "source": [
    "# 利用grahviz将dot文件生成图片格式"
   ]
  },
  {
   "cell_type": "markdown",
   "metadata": {},
   "source": [
    "%%html\n",
    "<img src=\"ex2_prune.png\">"
   ]
  },
  {
   "cell_type": "markdown",
   "metadata": {},
   "source": [
    "# 现在我们将两张图片进行对比"
   ]
  },
  {
   "cell_type": "markdown",
   "metadata": {},
   "source": [
    "# 剪枝前"
   ]
  },
  {
   "cell_type": "markdown",
   "metadata": {},
   "source": [
    "%%html\n",
    "<img src=\"ex2.png\">"
   ]
  },
  {
   "cell_type": "markdown",
   "metadata": {},
   "source": [
    "# 剪枝后"
   ]
  },
  {
   "cell_type": "markdown",
   "metadata": {},
   "source": [
    "%%html\n",
    "<img src=\"ex2_prune.png\">"
   ]
  },
  {
   "cell_type": "markdown",
   "metadata": {},
   "source": [
    "# 进行回归预测"
   ]
  },
  {
   "cell_type": "code",
   "execution_count": 14,
   "metadata": {},
   "outputs": [
    {
     "data": {
      "image/png": "[encoded data removed]",
      "text/plain": [
       "<matplotlib.figure.Figure at 0x19766a3ab38>"
      ]
     },
     "metadata": {},
     "output_type": "display_data"
    }
   ],
   "source": [
    "dataset = np.array(dataset)\n",
    "# 绘制散点\n",
    "plt.scatter(dataset[:, 0], dataset[:, 1])\n",
    "# 绘制回归曲线\n",
    "x = np.linspace(0, 1, 50)\n",
    "y = [tree_predict([i], tree) for i in x]\n",
    "plt.plot(x, y, c='r')\n",
    "plt.show()"
   ]
  }
 ],
 "metadata": {
  "kernelspec": {
   "display_name": "Python 3",
   "language": "python",
   "name": "python3"
  },
  "language_info": {
   "codemirror_mode": {
    "name": "ipython",
    "version": 3
   },
   "file_extension": ".py",
   "mimetype": "text/x-python",
   "name": "python",
   "nbconvert_exporter": "python",
   "pygments_lexer": "ipython3",
   "version": "3.6.3"
  }
 },
 "nbformat": 4,
 "nbformat_minor": 2
}
